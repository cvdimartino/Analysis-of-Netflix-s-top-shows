{
 "cells": [
  {
   "cell_type": "markdown",
   "id": "eight-steering",
   "metadata": {},
   "source": [
    "# Integrazione finale\n",
    "\n",
    "Integro tra loro i dati sui titoli presi da wikipedia e quelli presi da IMDb, aggiungo a mano le informazioni su qualche titolo mancante."
   ]
  },
  {
   "cell_type": "code",
   "execution_count": 1,
   "id": "arctic-forge",
   "metadata": {},
   "outputs": [],
   "source": [
    "import pandas as pd"
   ]
  },
  {
   "cell_type": "markdown",
   "id": "catholic-emphasis",
   "metadata": {},
   "source": [
    "### Leggo i dataset"
   ]
  },
  {
   "cell_type": "markdown",
   "id": "different-cleveland",
   "metadata": {},
   "source": [
    "Dati integrati con scraping da Wikipedia"
   ]
  },
  {
   "cell_type": "code",
   "execution_count": 2,
   "id": "neural-conversion",
   "metadata": {},
   "outputs": [],
   "source": [
    "# Dataset con titoli e dati di wikipedia\n",
    "\n",
    "film_wiki = pd.read_csv(\"Dati_integrati/wiki_film_dic-mar.csv\", index_col = 0)\n",
    "serie_tv_wiki = pd.read_csv(\"Dati_integrati/wiki_serie_dic-mar.csv\", index_col = 0)"
   ]
  },
  {
   "cell_type": "markdown",
   "id": "extended-receiver",
   "metadata": {},
   "source": [
    "Dataset con dati presi da IMDb."
   ]
  },
  {
   "cell_type": "code",
   "execution_count": 3,
   "id": "downtown-guard",
   "metadata": {},
   "outputs": [],
   "source": [
    "# Dataset con dati imdb\n",
    "\n",
    "imdb = pd.read_csv(\"Data_flixpatrol/Dati_netflix_dicembre-aprile/ratings_imdb_dic-mar2021.csv\", index_col = 0)"
   ]
  },
  {
   "cell_type": "markdown",
   "id": "coordinate-diana",
   "metadata": {},
   "source": [
    "Dati da Flixpatrol: classifiche Netflix giorno per giorno."
   ]
  },
  {
   "cell_type": "code",
   "execution_count": 4,
   "id": "russian-purse",
   "metadata": {},
   "outputs": [],
   "source": [
    "# Tutti i dati\n",
    "netflix = pd.read_csv(\"Data_flixpatrol/Dati_netflix_dicembre-aprile/netflix_dic-mar2021.csv\", index_col = 0)\n",
    "\n",
    "# Le tre classifiche singole\n",
    "top10 = pd.read_csv(\"Data_flixpatrol/Dati_netflix_dicembre-aprile/top_ten_dic-mar2021.csv\", index_col= 0)\n",
    "top_film = pd.read_csv(\"Data_flixpatrol/Dati_netflix_dicembre-aprile/top_ten_film_dic-mar2021.csv\", index_col= 0)\n",
    "top_serie = pd.read_csv(\"Data_flixpatrol/Dati_netflix_dicembre-aprile/top_ten_serie_dic-mar2021.csv\", index_col= 0)"
   ]
  },
  {
   "cell_type": "markdown",
   "id": "seeing-glass",
   "metadata": {},
   "source": [
    "Creo i due nuovi database __movies__ e __tv_series__ in cui incrocio i dati di Wikipedia con i rating di IMDb."
   ]
  },
  {
   "cell_type": "code",
   "execution_count": 5,
   "id": "proved-fortune",
   "metadata": {},
   "outputs": [],
   "source": [
    "movies = pd.merge(film_wiki, imdb, left_on = 'Titolo', right_on = 'Title')\n",
    "movies = movies.drop(columns = ['Title', 'Type'])"
   ]
  },
  {
   "cell_type": "code",
   "execution_count": 6,
   "id": "favorite-bundle",
   "metadata": {},
   "outputs": [],
   "source": [
    "tv_series = pd.merge(serie_tv_wiki, imdb, left_on = 'Titolo', right_on = 'Title')\n",
    "tv_series = tv_series.drop(columns = ['Title', 'Type'])"
   ]
  },
  {
   "cell_type": "markdown",
   "id": "senior-novel",
   "metadata": {},
   "source": [
    "### Estraggo,correggo i titoli e li ordino in ordine alfabetico\n",
    "\n",
    "Alcuni titoli presentano delle imperfezioni perché contengono un apostrofo."
   ]
  },
  {
   "cell_type": "code",
   "execution_count": 7,
   "id": "instructional-expert",
   "metadata": {},
   "outputs": [],
   "source": [
    "titoli_raw = list(set(netflix['name']))  # titoli così come sono nel database netflix\n",
    "\n",
    "titoli = titoli_raw.copy() # titoli che saranno corretti"
   ]
  },
  {
   "cell_type": "code",
   "execution_count": 8,
   "id": "organizational-question",
   "metadata": {},
   "outputs": [
    {
     "data": {
      "text/plain": [
       "208"
      ]
     },
     "execution_count": 8,
     "metadata": {},
     "output_type": "execute_result"
    }
   ],
   "source": [
    "len(titoli_raw)"
   ]
  },
  {
   "cell_type": "markdown",
   "id": "direct-elizabeth",
   "metadata": {},
   "source": [
    "In tutto ho 208 titoli. Alcuni titoli nel database originario (contenuti in titoli_raw) sono scritti male, quindi li correggo. titoli_raw conterrà i titoli originari, mentre titoli i titoli corretti."
   ]
  },
  {
   "cell_type": "code",
   "execution_count": 9,
   "id": "packed-blend",
   "metadata": {},
   "outputs": [],
   "source": [
    "import re"
   ]
  },
  {
   "cell_type": "code",
   "execution_count": 10,
   "id": "golden-gardening",
   "metadata": {},
   "outputs": [
    {
     "name": "stdout",
     "output_type": "stream",
     "text": [
      "Finding &#39;Ohana\n",
      "A Dog&#39;s Way Home\n",
      "I&#39;m Not a Killer\n",
      "The Queen&#39;s Gambit\n",
      "Don&#39;t Listen\n",
      "Dawson&#39;s Creek\n",
      "So My Grandma&#39;s a Lesbian!\n",
      "To All the Boys I&#39;ve Loved Before\n",
      "Ma Rainey&#39;s Black Bottom\n"
     ]
    }
   ],
   "source": [
    "# Stampo i titoli scritti male (= con un apostrofo)\n",
    "\n",
    "for t in titoli_raw:\n",
    "    occ = re.compile('^.*&\\#39;.*$')\n",
    "    \n",
    "    if occ.match(t):\n",
    "        print(t)"
   ]
  },
  {
   "cell_type": "markdown",
   "id": "interior-collins",
   "metadata": {},
   "source": [
    "In tutto ho 9 titoli problematici."
   ]
  },
  {
   "cell_type": "code",
   "execution_count": 11,
   "id": "broken-closure",
   "metadata": {},
   "outputs": [],
   "source": [
    "# Correggo (in titoli) i titoli scritti male\n",
    "\n",
    "for t in titoli:\n",
    "    \n",
    "    occ = re.compile('(^.*)(\\&\\#39;)(.*$)')\n",
    "    found = occ.match(t)\n",
    "    \n",
    "    if found:\n",
    "        titoli.remove(t)\n",
    "        pulita = re.sub(r'(\\&\\#39;)',\"\\'\" ,t)\n",
    "        titoli.append(pulita)"
   ]
  },
  {
   "cell_type": "code",
   "execution_count": 12,
   "id": "juvenile-hacker",
   "metadata": {},
   "outputs": [],
   "source": [
    "# Ordino in ordine alfabetico\n",
    "\n",
    "titoli = sorted(titoli)\n",
    "titoli_raw = sorted(titoli_raw)"
   ]
  },
  {
   "cell_type": "code",
   "execution_count": 13,
   "id": "industrial-fundamentals",
   "metadata": {},
   "outputs": [
    {
     "name": "stdout",
     "output_type": "stream",
     "text": [
      "To All the Boys I&#39;ve Loved Before\n",
      "To All the Boys I've Loved Before\n"
     ]
    }
   ],
   "source": [
    "# Prova\n",
    "\n",
    "print(titoli_raw[190])\n",
    "print(titoli[190])"
   ]
  },
  {
   "cell_type": "markdown",
   "id": "immune-comparison",
   "metadata": {},
   "source": [
    "# Creazione dell'indice di popolarità"
   ]
  },
  {
   "cell_type": "markdown",
   "id": "environmental-priest",
   "metadata": {},
   "source": [
    "Per ogni film f, considerando la classifica totale, il suo indice di popolarità è dato da:\n",
    "\n",
    "$$ I(f) = \\frac{\\sum_{g \\in G}(10 - ranking(f))}{10*N}$$\n",
    "\n",
    "dove G è l'insieme dei giorni considerati, N è la cardinalità di G, e il ranking(f) vale 0 se f è primo in classifica, 2 se è secondo eccetera, e infine vale 10 se non è in classifica.\n",
    "Il ranking vale dunque: $$ranking(f) = ranking - 1$$\n",
    "dove il ranking è la colonna del dataframe in esame."
   ]
  },
  {
   "cell_type": "code",
   "execution_count": 14,
   "id": "sacred-appliance",
   "metadata": {},
   "outputs": [],
   "source": [
    "lung_titoli = len(titoli_raw)"
   ]
  },
  {
   "cell_type": "code",
   "execution_count": 15,
   "id": "breeding-compression",
   "metadata": {},
   "outputs": [],
   "source": [
    "# In tutto ho 121 giorni (31 (dicembre) + 31 (gennaio) + 28 (febbraio) + 31 (marzo))\n",
    "num_giorni = 121"
   ]
  },
  {
   "cell_type": "code",
   "execution_count": 16,
   "id": "vulnerable-humanitarian",
   "metadata": {},
   "outputs": [],
   "source": [
    "# Calcolo indice relativo alla classifica generale (contenuta nel df top10)\n",
    "\n",
    "def indice_popolarità_gen(riga):\n",
    "    \n",
    "    # Stringa con il titolo che considero\n",
    "    t = riga['Titolo']\n",
    "    \n",
    "    for i in range(lung_titoli):\n",
    "        if titoli[i] == t:\n",
    "            break\n",
    "\n",
    "    t_raw = titoli_raw[i]\n",
    "\n",
    "    # Raggruppo il dataframe delle classifiche per il titolo, così ho i dati relativi ai giorni\n",
    "    # in cui quel titolo è stato in classifica, ottengo una serie (s) con la posizione (ranking) per ogni \n",
    "    # giorno in cui quel titolo è stato in classifica\n",
    "    s = top10[top10['name'] == t_raw][['name','ranking']]\n",
    "    \n",
    "    # Calcolo il numeratore dell'indice\n",
    "    indice = 0\n",
    "\n",
    "    for r in s['ranking']:\n",
    "        indice = indice + (10 - (r - 1)) \n",
    "    \n",
    "    # Divido ora il numeratore per denominatore ottenendo l'indice\n",
    "    return indice/(10*num_giorni)"
   ]
  },
  {
   "cell_type": "markdown",
   "id": "coral-nirvana",
   "metadata": {},
   "source": [
    "Uso la stessa funzione anche per calcolare l'indice con una classifica diversa, cambio solo i df da cui prendo i dati."
   ]
  },
  {
   "cell_type": "code",
   "execution_count": 17,
   "id": "bigger-cliff",
   "metadata": {},
   "outputs": [],
   "source": [
    "# Calcolo indice relativo alla classifica dei film (contenuta nel df top_film)\n",
    "\n",
    "def indice_popolarità_film(riga):\n",
    "    \n",
    "    # Stringa con il titolo che considero\n",
    "    t = riga['Titolo']\n",
    "    \n",
    "    for i in range(lung_titoli):\n",
    "        if titoli[i] == t:\n",
    "            break\n",
    "\n",
    "    t_raw = titoli_raw[i]\n",
    "    \n",
    "    # Raggruppo il dataframe delle classifiche per il titolo, così ho i dati relativi ai giorni\n",
    "    # in cui quel titolo è stato in classifica, ottengo una serie (s) con la posizione (ranking) per ogni \n",
    "    # giorno in cui quel titolo è stato in classifica\n",
    "    s = top_film[top_film['name'] == t_raw][['name','ranking']]\n",
    "    \n",
    "    # Calcolo il numeratore dell'indice\n",
    "    indice = 0\n",
    "\n",
    "    for r in s['ranking']:\n",
    "        indice = indice + (10 - (r - 1)) \n",
    "    \n",
    "    # Divido ora il numeratore per denominatore ottenendo l'indice\n",
    "    return indice/(10*num_giorni)"
   ]
  },
  {
   "cell_type": "code",
   "execution_count": 18,
   "id": "downtown-woman",
   "metadata": {},
   "outputs": [],
   "source": [
    "# Calcolo indice relativo alla classifica delle serie (contenuta nel df top_serie)\n",
    "\n",
    "def indice_popolarità_serie(riga):\n",
    "    \n",
    "    # Stringa con il titolo che considero\n",
    "    t = riga['Titolo']\n",
    "    \n",
    "    for i in range(lung_titoli):\n",
    "        if titoli[i] == t:\n",
    "            break\n",
    "\n",
    "    t_raw = titoli_raw[i]\n",
    "    \n",
    "    # Raggruppo il dataframe delle classifiche per il titolo, così ho i dati relativi ai giorni\n",
    "    # in cui quel titolo è stato in classifica, ottengo una serie (s) con la posizione (ranking) per ogni \n",
    "    # giorno in cui quel titolo è stato in classifica\n",
    "    s = top_serie[top_serie['name'] == t_raw][['name','ranking']]\n",
    "    \n",
    "    # Calcolo il numeratore dell'indice\n",
    "    indice = 0\n",
    "\n",
    "    for r in s['ranking']:\n",
    "        indice = indice + (10 - (r - 1)) \n",
    "    \n",
    "    # Divido ora il numeratore per denominatore ottenendo l'indice\n",
    "    return indice/(10*num_giorni)"
   ]
  },
  {
   "cell_type": "markdown",
   "id": "satisfactory-chancellor",
   "metadata": {},
   "source": [
    "Nei due dataframe la colonna _Indice_generale_ si riferisce all'indice i popolarità per quel titolo nella classifica generale, invece _Indice_tipo_ di riferisce all'indice di popolarità per la classifica specifica (solo film o solo serie tv).\n",
    "\n",
    "\n",
    "Applico ora la funzione al dataframe dei film per creare le nuove colonne 'Indice generale' e 'Indice tipo':"
   ]
  },
  {
   "cell_type": "code",
   "execution_count": 19,
   "id": "patient-compact",
   "metadata": {},
   "outputs": [],
   "source": [
    "# Dataframe dei film\n",
    "\n",
    "movies['Indice_generale'] = movies.apply(indice_popolarità_gen, axis = 1)\n",
    "movies['Indice_tipo'] = movies.apply(indice_popolarità_film, axis = 1)"
   ]
  },
  {
   "cell_type": "code",
   "execution_count": 20,
   "id": "speaking-twist",
   "metadata": {},
   "outputs": [
    {
     "data": {
      "text/html": [
       "<div>\n",
       "<style scoped>\n",
       "    .dataframe tbody tr th:only-of-type {\n",
       "        vertical-align: middle;\n",
       "    }\n",
       "\n",
       "    .dataframe tbody tr th {\n",
       "        vertical-align: top;\n",
       "    }\n",
       "\n",
       "    .dataframe thead th {\n",
       "        text-align: right;\n",
       "    }\n",
       "</style>\n",
       "<table border=\"1\" class=\"dataframe\">\n",
       "  <thead>\n",
       "    <tr style=\"text-align: right;\">\n",
       "      <th></th>\n",
       "      <th>Titolo</th>\n",
       "      <th>Paese</th>\n",
       "      <th>Produzione</th>\n",
       "      <th>Distribuzione</th>\n",
       "      <th>Cast</th>\n",
       "      <th>Creatore</th>\n",
       "      <th>Durata</th>\n",
       "      <th>Regista</th>\n",
       "      <th>Budget</th>\n",
       "      <th>Box_office</th>\n",
       "      <th>Sommario</th>\n",
       "      <th>Trama</th>\n",
       "      <th>Cast_testo</th>\n",
       "      <th>Produzione_testo</th>\n",
       "      <th>Critica</th>\n",
       "      <th>Average_rating</th>\n",
       "      <th>Num_votes</th>\n",
       "      <th>Indice_generale</th>\n",
       "      <th>Indice_tipo</th>\n",
       "    </tr>\n",
       "  </thead>\n",
       "  <tbody>\n",
       "    <tr>\n",
       "      <th>0</th>\n",
       "      <td>365 Days</td>\n",
       "      <td>Poland</td>\n",
       "      <td>Ekipa Sp. z o.o. Future Space Next Film TVN</td>\n",
       "      <td>Next Film</td>\n",
       "      <td>Anna-Maria Sieklucka Michele Morrone Bronisław...</td>\n",
       "      <td>Tomasz Klimala Barbara Białowąs Tomasz Mandes ...</td>\n",
       "      <td>114 minutes</td>\n",
       "      <td>Barbara Białowąs Tomasz Mandes</td>\n",
       "      <td>NaN</td>\n",
       "      <td>$9.5 million[1]</td>\n",
       "      <td>365 Days (Polish: 365 Dni) is a 2020 Polish er...</td>\n",
       "      <td>Section: Plot (1):\\nAfter a meeting between th...</td>\n",
       "      <td>Section: Cast (1):\\nMichele Morrone as Don Mas...</td>\n",
       "      <td>Section: Production (1):\\nThe film scenes were...</td>\n",
       "      <td>Section: Reception (1):\\nThe film made the top...</td>\n",
       "      <td>3.2</td>\n",
       "      <td>54757.0</td>\n",
       "      <td>0.00000</td>\n",
       "      <td>0.000826</td>\n",
       "    </tr>\n",
       "    <tr>\n",
       "      <th>1</th>\n",
       "      <td>5 Is the Perfect Number</td>\n",
       "      <td>Italy</td>\n",
       "      <td>Rai Cinema</td>\n",
       "      <td>01 Distribution</td>\n",
       "      <td>Toni ServilloValeria GolinoCarlo BuccirossoIai...</td>\n",
       "      <td>Igort</td>\n",
       "      <td>100 minutes</td>\n",
       "      <td>Igort</td>\n",
       "      <td>NaN</td>\n",
       "      <td>NaN</td>\n",
       "      <td>5 Is the Perfect Number (Italian: 5 è il numer...</td>\n",
       "      <td>Section: Plot (1):\\nIn the 1970s Naples, the r...</td>\n",
       "      <td>Section: Cast (1):\\n\\nSubsections (0):\\n</td>\n",
       "      <td>NaN</td>\n",
       "      <td>NaN</td>\n",
       "      <td>5.3</td>\n",
       "      <td>1075.0</td>\n",
       "      <td>0.00000</td>\n",
       "      <td>0.030579</td>\n",
       "    </tr>\n",
       "    <tr>\n",
       "      <th>2</th>\n",
       "      <td>A California Christmas</td>\n",
       "      <td>United States</td>\n",
       "      <td>ESX Entertainment</td>\n",
       "      <td>NaN</td>\n",
       "      <td>Lauren Swickard Josh Swickard</td>\n",
       "      <td>Lauren Swickard</td>\n",
       "      <td>106 minutes</td>\n",
       "      <td>Shaun Piccinino</td>\n",
       "      <td>NaN</td>\n",
       "      <td>NaN</td>\n",
       "      <td>A California Christmas is a 2020 Christmas fil...</td>\n",
       "      <td>Section: Plot (1):\\nJoseph Van Aston lives a c...</td>\n",
       "      <td>Section: Cast (1):\\n\\nSubsections (0):\\n</td>\n",
       "      <td>NaN</td>\n",
       "      <td>NaN</td>\n",
       "      <td>5.7</td>\n",
       "      <td>6543.0</td>\n",
       "      <td>0.06281</td>\n",
       "      <td>0.114876</td>\n",
       "    </tr>\n",
       "  </tbody>\n",
       "</table>\n",
       "</div>"
      ],
      "text/plain": [
       "                    Titolo          Paese  \\\n",
       "0                 365 Days         Poland   \n",
       "1  5 Is the Perfect Number          Italy   \n",
       "2   A California Christmas  United States   \n",
       "\n",
       "                                    Produzione    Distribuzione  \\\n",
       "0  Ekipa Sp. z o.o. Future Space Next Film TVN        Next Film   \n",
       "1                                   Rai Cinema  01 Distribution   \n",
       "2                            ESX Entertainment              NaN   \n",
       "\n",
       "                                                Cast  \\\n",
       "0  Anna-Maria Sieklucka Michele Morrone Bronisław...   \n",
       "1  Toni ServilloValeria GolinoCarlo BuccirossoIai...   \n",
       "2                      Lauren Swickard Josh Swickard   \n",
       "\n",
       "                                            Creatore       Durata  \\\n",
       "0  Tomasz Klimala Barbara Białowąs Tomasz Mandes ...  114 minutes   \n",
       "1                                              Igort  100 minutes   \n",
       "2                                    Lauren Swickard  106 minutes   \n",
       "\n",
       "                          Regista Budget       Box_office  \\\n",
       "0  Barbara Białowąs Tomasz Mandes    NaN  $9.5 million[1]   \n",
       "1                           Igort    NaN              NaN   \n",
       "2                 Shaun Piccinino    NaN              NaN   \n",
       "\n",
       "                                            Sommario  \\\n",
       "0  365 Days (Polish: 365 Dni) is a 2020 Polish er...   \n",
       "1  5 Is the Perfect Number (Italian: 5 è il numer...   \n",
       "2  A California Christmas is a 2020 Christmas fil...   \n",
       "\n",
       "                                               Trama  \\\n",
       "0  Section: Plot (1):\\nAfter a meeting between th...   \n",
       "1  Section: Plot (1):\\nIn the 1970s Naples, the r...   \n",
       "2  Section: Plot (1):\\nJoseph Van Aston lives a c...   \n",
       "\n",
       "                                          Cast_testo  \\\n",
       "0  Section: Cast (1):\\nMichele Morrone as Don Mas...   \n",
       "1           Section: Cast (1):\\n\\nSubsections (0):\\n   \n",
       "2           Section: Cast (1):\\n\\nSubsections (0):\\n   \n",
       "\n",
       "                                    Produzione_testo  \\\n",
       "0  Section: Production (1):\\nThe film scenes were...   \n",
       "1                                                NaN   \n",
       "2                                                NaN   \n",
       "\n",
       "                                             Critica  Average_rating  \\\n",
       "0  Section: Reception (1):\\nThe film made the top...             3.2   \n",
       "1                                                NaN             5.3   \n",
       "2                                                NaN             5.7   \n",
       "\n",
       "   Num_votes  Indice_generale  Indice_tipo  \n",
       "0    54757.0          0.00000     0.000826  \n",
       "1     1075.0          0.00000     0.030579  \n",
       "2     6543.0          0.06281     0.114876  "
      ]
     },
     "execution_count": 20,
     "metadata": {},
     "output_type": "execute_result"
    }
   ],
   "source": [
    "movies.head(3)"
   ]
  },
  {
   "cell_type": "markdown",
   "id": "eleven-costs",
   "metadata": {},
   "source": [
    "Idem con il dataframe delle serie tv:"
   ]
  },
  {
   "cell_type": "code",
   "execution_count": 21,
   "id": "forbidden-brazil",
   "metadata": {
    "scrolled": false
   },
   "outputs": [],
   "source": [
    "# Dataframe delle serie tv\n",
    "\n",
    "tv_series['Indice_generale'] = tv_series.apply(indice_popolarità_gen, axis = 1)\n",
    "tv_series['Indice_tipo'] = tv_series.apply(indice_popolarità_serie, axis = 1)"
   ]
  },
  {
   "cell_type": "code",
   "execution_count": 22,
   "id": "individual-torture",
   "metadata": {},
   "outputs": [
    {
     "data": {
      "text/html": [
       "<div>\n",
       "<style scoped>\n",
       "    .dataframe tbody tr th:only-of-type {\n",
       "        vertical-align: middle;\n",
       "    }\n",
       "\n",
       "    .dataframe tbody tr th {\n",
       "        vertical-align: top;\n",
       "    }\n",
       "\n",
       "    .dataframe thead th {\n",
       "        text-align: right;\n",
       "    }\n",
       "</style>\n",
       "<table border=\"1\" class=\"dataframe\">\n",
       "  <thead>\n",
       "    <tr style=\"text-align: right;\">\n",
       "      <th></th>\n",
       "      <th>Titolo</th>\n",
       "      <th>Paese</th>\n",
       "      <th>Produzione</th>\n",
       "      <th>Distribuzione</th>\n",
       "      <th>Cast</th>\n",
       "      <th>Creatore</th>\n",
       "      <th>Durata_episodio</th>\n",
       "      <th>Genere</th>\n",
       "      <th>N_stagioni</th>\n",
       "      <th>N_episodi</th>\n",
       "      <th>Sommario</th>\n",
       "      <th>Cast_testo</th>\n",
       "      <th>Produzione_testo</th>\n",
       "      <th>Critica</th>\n",
       "      <th>Average_rating</th>\n",
       "      <th>Num_votes</th>\n",
       "      <th>Indice_generale</th>\n",
       "      <th>Indice_tipo</th>\n",
       "    </tr>\n",
       "  </thead>\n",
       "  <tbody>\n",
       "    <tr>\n",
       "      <th>0</th>\n",
       "      <td>Age of Samurai: Battle for Japan</td>\n",
       "      <td>NaN</td>\n",
       "      <td>Netflix</td>\n",
       "      <td>NaN</td>\n",
       "      <td>Masayoshi Haneda Masami Kosaka Hideaki Itō Hay...</td>\n",
       "      <td>NaN</td>\n",
       "      <td>43–45 minutes</td>\n",
       "      <td>NaN</td>\n",
       "      <td>1</td>\n",
       "      <td>6</td>\n",
       "      <td>Age of Samurai: Battle for Japan is an America...</td>\n",
       "      <td>NaN</td>\n",
       "      <td>NaN</td>\n",
       "      <td>NaN</td>\n",
       "      <td>7.5</td>\n",
       "      <td>2218.0</td>\n",
       "      <td>0.023967</td>\n",
       "      <td>0.027273</td>\n",
       "    </tr>\n",
       "    <tr>\n",
       "      <th>1</th>\n",
       "      <td>Agents of S.H.I.E.L.D.</td>\n",
       "      <td>United States</td>\n",
       "      <td>ABC Studios Marvel Television Mutant Enemy Pro...</td>\n",
       "      <td>Walt Disney Television</td>\n",
       "      <td>Clark Gregg Ming-Na Wen Brett Dalton Chloe Ben...</td>\n",
       "      <td>Joss Whedon Jed Whedon Maurissa Tancharoen</td>\n",
       "      <td>41–44 minutes</td>\n",
       "      <td>Action Drama Science fiction Superhero</td>\n",
       "      <td>7</td>\n",
       "      <td>136 (list of episodes)</td>\n",
       "      <td>Marvel's Agents of S.H.I.E.L.D. is an American...</td>\n",
       "      <td>Section: Cast and characters (1):\\nClark Gregg...</td>\n",
       "      <td>Section: Production (1):\\n\\nSubsections (8):\\n...</td>\n",
       "      <td>Section: Reception (1):\\n\\nSubsections (4):\\nS...</td>\n",
       "      <td>7.5</td>\n",
       "      <td>201304.0</td>\n",
       "      <td>0.000000</td>\n",
       "      <td>0.019835</td>\n",
       "    </tr>\n",
       "    <tr>\n",
       "      <th>2</th>\n",
       "      <td>Alice in Borderland</td>\n",
       "      <td>Japan</td>\n",
       "      <td>Robot Communications Inc.</td>\n",
       "      <td>Netflix</td>\n",
       "      <td>Kento Yamazaki Tao Tsuchiya Yūki Morinaga Keit...</td>\n",
       "      <td>NaN</td>\n",
       "      <td>41–52 minutes</td>\n",
       "      <td>Science fiction[1] Suspense-thriller[2] Drama[3]</td>\n",
       "      <td>1</td>\n",
       "      <td>8 (list of episodes)</td>\n",
       "      <td>Alice in Borderland (Japanese: 今際の国のアリス, Hepbu...</td>\n",
       "      <td>Section: Cast and characters (1):\\n\\nSubsectio...</td>\n",
       "      <td>Section: Production (1):\\n\\nSubsections (3):\\n...</td>\n",
       "      <td>Section: Reception (1):\\n\\nSubsections (2):\\nS...</td>\n",
       "      <td>7.7</td>\n",
       "      <td>18897.0</td>\n",
       "      <td>0.047934</td>\n",
       "      <td>0.097521</td>\n",
       "    </tr>\n",
       "  </tbody>\n",
       "</table>\n",
       "</div>"
      ],
      "text/plain": [
       "                             Titolo          Paese  \\\n",
       "0  Age of Samurai: Battle for Japan            NaN   \n",
       "1            Agents of S.H.I.E.L.D.  United States   \n",
       "2               Alice in Borderland          Japan   \n",
       "\n",
       "                                          Produzione           Distribuzione  \\\n",
       "0                                            Netflix                     NaN   \n",
       "1  ABC Studios Marvel Television Mutant Enemy Pro...  Walt Disney Television   \n",
       "2                          Robot Communications Inc.                 Netflix   \n",
       "\n",
       "                                                Cast  \\\n",
       "0  Masayoshi Haneda Masami Kosaka Hideaki Itō Hay...   \n",
       "1  Clark Gregg Ming-Na Wen Brett Dalton Chloe Ben...   \n",
       "2  Kento Yamazaki Tao Tsuchiya Yūki Morinaga Keit...   \n",
       "\n",
       "                                     Creatore Durata_episodio  \\\n",
       "0                                         NaN   43–45 minutes   \n",
       "1  Joss Whedon Jed Whedon Maurissa Tancharoen   41–44 minutes   \n",
       "2                                         NaN   41–52 minutes   \n",
       "\n",
       "                                             Genere N_stagioni  \\\n",
       "0                                               NaN          1   \n",
       "1            Action Drama Science fiction Superhero          7   \n",
       "2  Science fiction[1] Suspense-thriller[2] Drama[3]          1   \n",
       "\n",
       "                N_episodi                                           Sommario  \\\n",
       "0                       6  Age of Samurai: Battle for Japan is an America...   \n",
       "1  136 (list of episodes)  Marvel's Agents of S.H.I.E.L.D. is an American...   \n",
       "2    8 (list of episodes)  Alice in Borderland (Japanese: 今際の国のアリス, Hepbu...   \n",
       "\n",
       "                                          Cast_testo  \\\n",
       "0                                                NaN   \n",
       "1  Section: Cast and characters (1):\\nClark Gregg...   \n",
       "2  Section: Cast and characters (1):\\n\\nSubsectio...   \n",
       "\n",
       "                                    Produzione_testo  \\\n",
       "0                                                NaN   \n",
       "1  Section: Production (1):\\n\\nSubsections (8):\\n...   \n",
       "2  Section: Production (1):\\n\\nSubsections (3):\\n...   \n",
       "\n",
       "                                             Critica  Average_rating  \\\n",
       "0                                                NaN             7.5   \n",
       "1  Section: Reception (1):\\n\\nSubsections (4):\\nS...             7.5   \n",
       "2  Section: Reception (1):\\n\\nSubsections (2):\\nS...             7.7   \n",
       "\n",
       "   Num_votes  Indice_generale  Indice_tipo  \n",
       "0     2218.0         0.023967     0.027273  \n",
       "1   201304.0         0.000000     0.019835  \n",
       "2    18897.0         0.047934     0.097521  "
      ]
     },
     "execution_count": 22,
     "metadata": {},
     "output_type": "execute_result"
    }
   ],
   "source": [
    "tv_series.head(3)"
   ]
  },
  {
   "cell_type": "markdown",
   "id": "interested-trade",
   "metadata": {},
   "source": [
    "### Esporto in file csv"
   ]
  },
  {
   "cell_type": "code",
   "execution_count": 23,
   "id": "satellite-nightmare",
   "metadata": {},
   "outputs": [],
   "source": [
    "movies.to_csv(\"film_integrati.csv\")"
   ]
  },
  {
   "cell_type": "code",
   "execution_count": 24,
   "id": "amazing-digest",
   "metadata": {},
   "outputs": [],
   "source": [
    "tv_series.to_csv(\"serie_tv_integrate.csv\")"
   ]
  },
  {
   "cell_type": "code",
   "execution_count": 25,
   "id": "vanilla-recorder",
   "metadata": {},
   "outputs": [
    {
     "data": {
      "text/plain": [
       "(140, 19)"
      ]
     },
     "execution_count": 25,
     "metadata": {},
     "output_type": "execute_result"
    }
   ],
   "source": [
    "movies.shape"
   ]
  },
  {
   "cell_type": "code",
   "execution_count": 26,
   "id": "fifty-treaty",
   "metadata": {},
   "outputs": [
    {
     "data": {
      "text/plain": [
       "(68, 18)"
      ]
     },
     "execution_count": 26,
     "metadata": {},
     "output_type": "execute_result"
    }
   ],
   "source": [
    "tv_series.shape"
   ]
  },
  {
   "cell_type": "markdown",
   "id": "educational-weather",
   "metadata": {},
   "source": [
    "## Calcolo i 5 titoli più visti"
   ]
  },
  {
   "cell_type": "code",
   "execution_count": 33,
   "id": "norman-institute",
   "metadata": {},
   "outputs": [],
   "source": [
    "totale = pd.concat([movies[['Titolo', 'Indice_generale', 'Indice_tipo']].copy(), \n",
    "                    tv_series[['Titolo', 'Indice_generale', 'Indice_tipo']]].copy(), ignore_index = True)"
   ]
  },
  {
   "cell_type": "code",
   "execution_count": 34,
   "id": "leading-technical",
   "metadata": {},
   "outputs": [],
   "source": [
    "totale['Popolarita'] = totale['Indice_generale'] + totale['Indice_tipo']"
   ]
  },
  {
   "cell_type": "code",
   "execution_count": 36,
   "id": "scientific-literature",
   "metadata": {},
   "outputs": [
    {
     "data": {
      "text/html": [
       "<div>\n",
       "<style scoped>\n",
       "    .dataframe tbody tr th:only-of-type {\n",
       "        vertical-align: middle;\n",
       "    }\n",
       "\n",
       "    .dataframe tbody tr th {\n",
       "        vertical-align: top;\n",
       "    }\n",
       "\n",
       "    .dataframe thead th {\n",
       "        text-align: right;\n",
       "    }\n",
       "</style>\n",
       "<table border=\"1\" class=\"dataframe\">\n",
       "  <thead>\n",
       "    <tr style=\"text-align: right;\">\n",
       "      <th></th>\n",
       "      <th>Titolo</th>\n",
       "      <th>Indice_generale</th>\n",
       "      <th>Indice_tipo</th>\n",
       "      <th>Popolarita</th>\n",
       "    </tr>\n",
       "  </thead>\n",
       "  <tbody>\n",
       "    <tr>\n",
       "      <th>147</th>\n",
       "      <td>Bridgerton</td>\n",
       "      <td>0.400826</td>\n",
       "      <td>0.462810</td>\n",
       "      <td>0.863636</td>\n",
       "    </tr>\n",
       "    <tr>\n",
       "      <th>198</th>\n",
       "      <td>The Queen's Gambit</td>\n",
       "      <td>0.310744</td>\n",
       "      <td>0.432231</td>\n",
       "      <td>0.742975</td>\n",
       "    </tr>\n",
       "    <tr>\n",
       "      <th>169</th>\n",
       "      <td>Lupin</td>\n",
       "      <td>0.281818</td>\n",
       "      <td>0.340496</td>\n",
       "      <td>0.622314</td>\n",
       "    </tr>\n",
       "    <tr>\n",
       "      <th>161</th>\n",
       "      <td>Ginny &amp; Georgia</td>\n",
       "      <td>0.259504</td>\n",
       "      <td>0.266942</td>\n",
       "      <td>0.526446</td>\n",
       "    </tr>\n",
       "    <tr>\n",
       "      <th>174</th>\n",
       "      <td>New Amsterdam</td>\n",
       "      <td>0.216529</td>\n",
       "      <td>0.247934</td>\n",
       "      <td>0.464463</td>\n",
       "    </tr>\n",
       "    <tr>\n",
       "      <th>177</th>\n",
       "      <td>Riverdale</td>\n",
       "      <td>0.207438</td>\n",
       "      <td>0.219008</td>\n",
       "      <td>0.426446</td>\n",
       "    </tr>\n",
       "    <tr>\n",
       "      <th>159</th>\n",
       "      <td>Firefly Lane</td>\n",
       "      <td>0.166116</td>\n",
       "      <td>0.183471</td>\n",
       "      <td>0.349587</td>\n",
       "    </tr>\n",
       "    <tr>\n",
       "      <th>158</th>\n",
       "      <td>Fate: The Winx Saga</td>\n",
       "      <td>0.147934</td>\n",
       "      <td>0.196694</td>\n",
       "      <td>0.344628</td>\n",
       "    </tr>\n",
       "    <tr>\n",
       "      <th>180</th>\n",
       "      <td>Snowpiercer</td>\n",
       "      <td>0.131405</td>\n",
       "      <td>0.208264</td>\n",
       "      <td>0.339669</td>\n",
       "    </tr>\n",
       "    <tr>\n",
       "      <th>84</th>\n",
       "      <td>Rose Island</td>\n",
       "      <td>0.125620</td>\n",
       "      <td>0.195041</td>\n",
       "      <td>0.320661</td>\n",
       "    </tr>\n",
       "    <tr>\n",
       "      <th>144</th>\n",
       "      <td>Behind Her Eyes</td>\n",
       "      <td>0.137190</td>\n",
       "      <td>0.169421</td>\n",
       "      <td>0.306612</td>\n",
       "    </tr>\n",
       "    <tr>\n",
       "      <th>200</th>\n",
       "      <td>Tiny Pretty Things</td>\n",
       "      <td>0.124793</td>\n",
       "      <td>0.161157</td>\n",
       "      <td>0.285950</td>\n",
       "    </tr>\n",
       "    <tr>\n",
       "      <th>178</th>\n",
       "      <td>SanPa Sins of the Savior</td>\n",
       "      <td>0.127273</td>\n",
       "      <td>0.157025</td>\n",
       "      <td>0.284298</td>\n",
       "    </tr>\n",
       "    <tr>\n",
       "      <th>196</th>\n",
       "      <td>The Mess You Leave Behind</td>\n",
       "      <td>0.126446</td>\n",
       "      <td>0.153719</td>\n",
       "      <td>0.280165</td>\n",
       "    </tr>\n",
       "    <tr>\n",
       "      <th>190</th>\n",
       "      <td>The Crown</td>\n",
       "      <td>0.099174</td>\n",
       "      <td>0.174380</td>\n",
       "      <td>0.273554</td>\n",
       "    </tr>\n",
       "    <tr>\n",
       "      <th>111</th>\n",
       "      <td>The Christmas Chronicles: Part Two</td>\n",
       "      <td>0.053719</td>\n",
       "      <td>0.176033</td>\n",
       "      <td>0.229752</td>\n",
       "    </tr>\n",
       "    <tr>\n",
       "      <th>186</th>\n",
       "      <td>The 100</td>\n",
       "      <td>0.087603</td>\n",
       "      <td>0.139669</td>\n",
       "      <td>0.227273</td>\n",
       "    </tr>\n",
       "    <tr>\n",
       "      <th>151</th>\n",
       "      <td>Cobra Kai</td>\n",
       "      <td>0.085124</td>\n",
       "      <td>0.119008</td>\n",
       "      <td>0.204132</td>\n",
       "    </tr>\n",
       "    <tr>\n",
       "      <th>4</th>\n",
       "      <td>A Star is Born</td>\n",
       "      <td>0.053719</td>\n",
       "      <td>0.144628</td>\n",
       "      <td>0.198347</td>\n",
       "    </tr>\n",
       "    <tr>\n",
       "      <th>11</th>\n",
       "      <td>Ava</td>\n",
       "      <td>0.067769</td>\n",
       "      <td>0.119008</td>\n",
       "      <td>0.186777</td>\n",
       "    </tr>\n",
       "    <tr>\n",
       "      <th>203</th>\n",
       "      <td>Virgin River</td>\n",
       "      <td>0.073554</td>\n",
       "      <td>0.111570</td>\n",
       "      <td>0.185124</td>\n",
       "    </tr>\n",
       "    <tr>\n",
       "      <th>2</th>\n",
       "      <td>A California Christmas</td>\n",
       "      <td>0.062810</td>\n",
       "      <td>0.114876</td>\n",
       "      <td>0.177686</td>\n",
       "    </tr>\n",
       "    <tr>\n",
       "      <th>135</th>\n",
       "      <td>We Can Be Heroes</td>\n",
       "      <td>0.033058</td>\n",
       "      <td>0.139669</td>\n",
       "      <td>0.172727</td>\n",
       "    </tr>\n",
       "    <tr>\n",
       "      <th>117</th>\n",
       "      <td>The Midnight Sky</td>\n",
       "      <td>0.071901</td>\n",
       "      <td>0.091736</td>\n",
       "      <td>0.163636</td>\n",
       "    </tr>\n",
       "    <tr>\n",
       "      <th>130</th>\n",
       "      <td>To All the Boys: Always and Forever</td>\n",
       "      <td>0.058678</td>\n",
       "      <td>0.104959</td>\n",
       "      <td>0.163636</td>\n",
       "    </tr>\n",
       "    <tr>\n",
       "      <th>137</th>\n",
       "      <td>Yes Day</td>\n",
       "      <td>0.051240</td>\n",
       "      <td>0.111570</td>\n",
       "      <td>0.162810</td>\n",
       "    </tr>\n",
       "    <tr>\n",
       "      <th>73</th>\n",
       "      <td>Outside the Wire</td>\n",
       "      <td>0.059504</td>\n",
       "      <td>0.103306</td>\n",
       "      <td>0.162810</td>\n",
       "    </tr>\n",
       "    <tr>\n",
       "      <th>13</th>\n",
       "      <td>Belleville Cop</td>\n",
       "      <td>0.032231</td>\n",
       "      <td>0.128099</td>\n",
       "      <td>0.160331</td>\n",
       "    </tr>\n",
       "    <tr>\n",
       "      <th>18</th>\n",
       "      <td>Blow</td>\n",
       "      <td>0.031405</td>\n",
       "      <td>0.115702</td>\n",
       "      <td>0.147107</td>\n",
       "    </tr>\n",
       "    <tr>\n",
       "      <th>155</th>\n",
       "      <td>Disenchantment</td>\n",
       "      <td>0.052066</td>\n",
       "      <td>0.094215</td>\n",
       "      <td>0.146281</td>\n",
       "    </tr>\n",
       "  </tbody>\n",
       "</table>\n",
       "</div>"
      ],
      "text/plain": [
       "                                  Titolo  Indice_generale  Indice_tipo  \\\n",
       "147                           Bridgerton         0.400826     0.462810   \n",
       "198                   The Queen's Gambit         0.310744     0.432231   \n",
       "169                                Lupin         0.281818     0.340496   \n",
       "161                      Ginny & Georgia         0.259504     0.266942   \n",
       "174                        New Amsterdam         0.216529     0.247934   \n",
       "177                            Riverdale         0.207438     0.219008   \n",
       "159                         Firefly Lane         0.166116     0.183471   \n",
       "158                  Fate: The Winx Saga         0.147934     0.196694   \n",
       "180                          Snowpiercer         0.131405     0.208264   \n",
       "84                           Rose Island         0.125620     0.195041   \n",
       "144                      Behind Her Eyes         0.137190     0.169421   \n",
       "200                   Tiny Pretty Things         0.124793     0.161157   \n",
       "178             SanPa Sins of the Savior         0.127273     0.157025   \n",
       "196            The Mess You Leave Behind         0.126446     0.153719   \n",
       "190                            The Crown         0.099174     0.174380   \n",
       "111   The Christmas Chronicles: Part Two         0.053719     0.176033   \n",
       "186                              The 100         0.087603     0.139669   \n",
       "151                            Cobra Kai         0.085124     0.119008   \n",
       "4                         A Star is Born         0.053719     0.144628   \n",
       "11                                   Ava         0.067769     0.119008   \n",
       "203                         Virgin River         0.073554     0.111570   \n",
       "2                 A California Christmas         0.062810     0.114876   \n",
       "135                     We Can Be Heroes         0.033058     0.139669   \n",
       "117                     The Midnight Sky         0.071901     0.091736   \n",
       "130  To All the Boys: Always and Forever         0.058678     0.104959   \n",
       "137                              Yes Day         0.051240     0.111570   \n",
       "73                      Outside the Wire         0.059504     0.103306   \n",
       "13                        Belleville Cop         0.032231     0.128099   \n",
       "18                                  Blow         0.031405     0.115702   \n",
       "155                       Disenchantment         0.052066     0.094215   \n",
       "\n",
       "     Popolarita  \n",
       "147    0.863636  \n",
       "198    0.742975  \n",
       "169    0.622314  \n",
       "161    0.526446  \n",
       "174    0.464463  \n",
       "177    0.426446  \n",
       "159    0.349587  \n",
       "158    0.344628  \n",
       "180    0.339669  \n",
       "84     0.320661  \n",
       "144    0.306612  \n",
       "200    0.285950  \n",
       "178    0.284298  \n",
       "196    0.280165  \n",
       "190    0.273554  \n",
       "111    0.229752  \n",
       "186    0.227273  \n",
       "151    0.204132  \n",
       "4      0.198347  \n",
       "11     0.186777  \n",
       "203    0.185124  \n",
       "2      0.177686  \n",
       "135    0.172727  \n",
       "117    0.163636  \n",
       "130    0.163636  \n",
       "137    0.162810  \n",
       "73     0.162810  \n",
       "13     0.160331  \n",
       "18     0.147107  \n",
       "155    0.146281  "
      ]
     },
     "execution_count": 36,
     "metadata": {},
     "output_type": "execute_result"
    }
   ],
   "source": [
    "totale.sort_values(by = 'Popolarita', ascending = False).head(30)"
   ]
  },
  {
   "cell_type": "markdown",
   "id": "hindu-sweden",
   "metadata": {},
   "source": [
    "Esporto il dataset finale, con popolarità di film e serie-tv insieme."
   ]
  },
  {
   "cell_type": "code",
   "execution_count": 40,
   "id": "suspected-isaac",
   "metadata": {},
   "outputs": [],
   "source": [
    "totale.to_csv(\"dataset_popolarita.csv\")"
   ]
  },
  {
   "cell_type": "code",
   "execution_count": null,
   "id": "periodic-password",
   "metadata": {},
   "outputs": [],
   "source": []
  }
 ],
 "metadata": {
  "kernelspec": {
   "display_name": "Python 3",
   "language": "python",
   "name": "python3"
  },
  "language_info": {
   "codemirror_mode": {
    "name": "ipython",
    "version": 3
   },
   "file_extension": ".py",
   "mimetype": "text/x-python",
   "name": "python",
   "nbconvert_exporter": "python",
   "pygments_lexer": "ipython3",
   "version": "3.8.5"
  }
 },
 "nbformat": 4,
 "nbformat_minor": 5
}
